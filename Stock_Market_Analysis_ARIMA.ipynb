{
  "cells": [
    {
      "cell_type": "markdown",
      "source": [
        "# Load Library"
      ],
      "metadata": {
        "id": "ITGIBmumxvTC"
      },
      "id": "ITGIBmumxvTC"
    },
    {
      "cell_type": "code",
      "execution_count": 1,
      "id": "b352e1d5",
      "metadata": {
        "id": "b352e1d5"
      },
      "outputs": [],
      "source": [
        "import pandas as pd\n",
        "import numpy as np\n",
        "import matplotlib.pyplot as plt\n",
        "import statsmodels.api as sms\n",
        "\n",
        "%matplotlib inline"
      ]
    },
    {
      "cell_type": "markdown",
      "source": [
        "## Load Drive and Read File"
      ],
      "metadata": {
        "id": "giZM1Cabx49-"
      },
      "id": "giZM1Cabx49-"
    },
    {
      "cell_type": "code",
      "source": [
        "from google.colab import drive\n",
        "drive.mount('/content/drive')"
      ],
      "metadata": {
        "colab": {
          "base_uri": "https://localhost:8080/"
        },
        "id": "2Kql2zvdrRHe",
        "outputId": "65cc6e3a-8751-4e2f-fbbc-18ba616d1898"
      },
      "id": "2Kql2zvdrRHe",
      "execution_count": 2,
      "outputs": [
        {
          "output_type": "stream",
          "name": "stdout",
          "text": [
            "Mounted at /content/drive\n"
          ]
        }
      ]
    },
    {
      "cell_type": "code",
      "execution_count": 3,
      "id": "64551482",
      "metadata": {
        "id": "64551482"
      },
      "outputs": [],
      "source": [
        "df=pd.read_csv(r\"/content/drive/MyDrive/CDAC DBDA Data File/Project Files/NIFTY_50__EQ__INDICES__NSE__MINUTE.csv\")"
      ]
    },
    {
      "cell_type": "code",
      "execution_count": 4,
      "id": "e2f0aa3d",
      "metadata": {
        "colab": {
          "base_uri": "https://localhost:8080/",
          "height": 206
        },
        "id": "e2f0aa3d",
        "outputId": "4013c66c-c611-43f8-f7e0-eb86be2bbef1"
      },
      "outputs": [
        {
          "output_type": "execute_result",
          "data": {
            "text/plain": [
              "                   timestamp     open     high      low    close  volume\n",
              "0  2017-01-02 09:15:00+05:30  8210.10  8211.70  8189.00  8189.55     0.0\n",
              "1  2017-01-02 09:16:00+05:30  8188.75  8193.95  8188.75  8189.95     0.0\n",
              "2  2017-01-02 09:17:00+05:30  8190.15  8190.75  8173.70  8173.70     0.0\n",
              "3  2017-01-02 09:18:00+05:30  8173.35  8177.55  8169.15  8177.55     0.0\n",
              "4  2017-01-02 09:19:00+05:30  8177.85  8178.15  8173.45  8174.40     0.0"
            ],
            "text/html": [
              "\n",
              "  <div id=\"df-35b4dc11-aa4e-4a6f-95ea-8ecc0a8ea93d\">\n",
              "    <div class=\"colab-df-container\">\n",
              "      <div>\n",
              "<style scoped>\n",
              "    .dataframe tbody tr th:only-of-type {\n",
              "        vertical-align: middle;\n",
              "    }\n",
              "\n",
              "    .dataframe tbody tr th {\n",
              "        vertical-align: top;\n",
              "    }\n",
              "\n",
              "    .dataframe thead th {\n",
              "        text-align: right;\n",
              "    }\n",
              "</style>\n",
              "<table border=\"1\" class=\"dataframe\">\n",
              "  <thead>\n",
              "    <tr style=\"text-align: right;\">\n",
              "      <th></th>\n",
              "      <th>timestamp</th>\n",
              "      <th>open</th>\n",
              "      <th>high</th>\n",
              "      <th>low</th>\n",
              "      <th>close</th>\n",
              "      <th>volume</th>\n",
              "    </tr>\n",
              "  </thead>\n",
              "  <tbody>\n",
              "    <tr>\n",
              "      <th>0</th>\n",
              "      <td>2017-01-02 09:15:00+05:30</td>\n",
              "      <td>8210.10</td>\n",
              "      <td>8211.70</td>\n",
              "      <td>8189.00</td>\n",
              "      <td>8189.55</td>\n",
              "      <td>0.0</td>\n",
              "    </tr>\n",
              "    <tr>\n",
              "      <th>1</th>\n",
              "      <td>2017-01-02 09:16:00+05:30</td>\n",
              "      <td>8188.75</td>\n",
              "      <td>8193.95</td>\n",
              "      <td>8188.75</td>\n",
              "      <td>8189.95</td>\n",
              "      <td>0.0</td>\n",
              "    </tr>\n",
              "    <tr>\n",
              "      <th>2</th>\n",
              "      <td>2017-01-02 09:17:00+05:30</td>\n",
              "      <td>8190.15</td>\n",
              "      <td>8190.75</td>\n",
              "      <td>8173.70</td>\n",
              "      <td>8173.70</td>\n",
              "      <td>0.0</td>\n",
              "    </tr>\n",
              "    <tr>\n",
              "      <th>3</th>\n",
              "      <td>2017-01-02 09:18:00+05:30</td>\n",
              "      <td>8173.35</td>\n",
              "      <td>8177.55</td>\n",
              "      <td>8169.15</td>\n",
              "      <td>8177.55</td>\n",
              "      <td>0.0</td>\n",
              "    </tr>\n",
              "    <tr>\n",
              "      <th>4</th>\n",
              "      <td>2017-01-02 09:19:00+05:30</td>\n",
              "      <td>8177.85</td>\n",
              "      <td>8178.15</td>\n",
              "      <td>8173.45</td>\n",
              "      <td>8174.40</td>\n",
              "      <td>0.0</td>\n",
              "    </tr>\n",
              "  </tbody>\n",
              "</table>\n",
              "</div>\n",
              "      <button class=\"colab-df-convert\" onclick=\"convertToInteractive('df-35b4dc11-aa4e-4a6f-95ea-8ecc0a8ea93d')\"\n",
              "              title=\"Convert this dataframe to an interactive table.\"\n",
              "              style=\"display:none;\">\n",
              "        \n",
              "  <svg xmlns=\"http://www.w3.org/2000/svg\" height=\"24px\"viewBox=\"0 0 24 24\"\n",
              "       width=\"24px\">\n",
              "    <path d=\"M0 0h24v24H0V0z\" fill=\"none\"/>\n",
              "    <path d=\"M18.56 5.44l.94 2.06.94-2.06 2.06-.94-2.06-.94-.94-2.06-.94 2.06-2.06.94zm-11 1L8.5 8.5l.94-2.06 2.06-.94-2.06-.94L8.5 2.5l-.94 2.06-2.06.94zm10 10l.94 2.06.94-2.06 2.06-.94-2.06-.94-.94-2.06-.94 2.06-2.06.94z\"/><path d=\"M17.41 7.96l-1.37-1.37c-.4-.4-.92-.59-1.43-.59-.52 0-1.04.2-1.43.59L10.3 9.45l-7.72 7.72c-.78.78-.78 2.05 0 2.83L4 21.41c.39.39.9.59 1.41.59.51 0 1.02-.2 1.41-.59l7.78-7.78 2.81-2.81c.8-.78.8-2.07 0-2.86zM5.41 20L4 18.59l7.72-7.72 1.47 1.35L5.41 20z\"/>\n",
              "  </svg>\n",
              "      </button>\n",
              "      \n",
              "  <style>\n",
              "    .colab-df-container {\n",
              "      display:flex;\n",
              "      flex-wrap:wrap;\n",
              "      gap: 12px;\n",
              "    }\n",
              "\n",
              "    .colab-df-convert {\n",
              "      background-color: #E8F0FE;\n",
              "      border: none;\n",
              "      border-radius: 50%;\n",
              "      cursor: pointer;\n",
              "      display: none;\n",
              "      fill: #1967D2;\n",
              "      height: 32px;\n",
              "      padding: 0 0 0 0;\n",
              "      width: 32px;\n",
              "    }\n",
              "\n",
              "    .colab-df-convert:hover {\n",
              "      background-color: #E2EBFA;\n",
              "      box-shadow: 0px 1px 2px rgba(60, 64, 67, 0.3), 0px 1px 3px 1px rgba(60, 64, 67, 0.15);\n",
              "      fill: #174EA6;\n",
              "    }\n",
              "\n",
              "    [theme=dark] .colab-df-convert {\n",
              "      background-color: #3B4455;\n",
              "      fill: #D2E3FC;\n",
              "    }\n",
              "\n",
              "    [theme=dark] .colab-df-convert:hover {\n",
              "      background-color: #434B5C;\n",
              "      box-shadow: 0px 1px 3px 1px rgba(0, 0, 0, 0.15);\n",
              "      filter: drop-shadow(0px 1px 2px rgba(0, 0, 0, 0.3));\n",
              "      fill: #FFFFFF;\n",
              "    }\n",
              "  </style>\n",
              "\n",
              "      <script>\n",
              "        const buttonEl =\n",
              "          document.querySelector('#df-35b4dc11-aa4e-4a6f-95ea-8ecc0a8ea93d button.colab-df-convert');\n",
              "        buttonEl.style.display =\n",
              "          google.colab.kernel.accessAllowed ? 'block' : 'none';\n",
              "\n",
              "        async function convertToInteractive(key) {\n",
              "          const element = document.querySelector('#df-35b4dc11-aa4e-4a6f-95ea-8ecc0a8ea93d');\n",
              "          const dataTable =\n",
              "            await google.colab.kernel.invokeFunction('convertToInteractive',\n",
              "                                                     [key], {});\n",
              "          if (!dataTable) return;\n",
              "\n",
              "          const docLinkHtml = 'Like what you see? Visit the ' +\n",
              "            '<a target=\"_blank\" href=https://colab.research.google.com/notebooks/data_table.ipynb>data table notebook</a>'\n",
              "            + ' to learn more about interactive tables.';\n",
              "          element.innerHTML = '';\n",
              "          dataTable['output_type'] = 'display_data';\n",
              "          await google.colab.output.renderOutput(dataTable, element);\n",
              "          const docLink = document.createElement('div');\n",
              "          docLink.innerHTML = docLinkHtml;\n",
              "          element.appendChild(docLink);\n",
              "        }\n",
              "      </script>\n",
              "    </div>\n",
              "  </div>\n",
              "  "
            ]
          },
          "metadata": {},
          "execution_count": 4
        }
      ],
      "source": [
        "df.head()"
      ]
    },
    {
      "cell_type": "markdown",
      "source": [
        "##PreProcessing"
      ],
      "metadata": {
        "id": "H3A6-YCyyAzP"
      },
      "id": "H3A6-YCyyAzP"
    },
    {
      "cell_type": "code",
      "execution_count": 5,
      "id": "2802f848",
      "metadata": {
        "id": "2802f848"
      },
      "outputs": [],
      "source": [
        "#Editing TimeStamp\n",
        "df[\"timestamp\"] = df[\"timestamp\"].apply(lambda x: x.replace(\"+05:30\",\"\"))"
      ]
    },
    {
      "cell_type": "code",
      "execution_count": 6,
      "id": "c3fbdb8c",
      "metadata": {
        "colab": {
          "base_uri": "https://localhost:8080/"
        },
        "id": "c3fbdb8c",
        "outputId": "b4928bab-31f4-4afa-8f39-f8a223dab772"
      },
      "outputs": [
        {
          "output_type": "stream",
          "name": "stdout",
          "text": [
            "<class 'pandas.core.frame.DataFrame'>\n",
            "DatetimeIndex: 370740 entries, 2017-01-02 09:15:00 to 2021-01-01 15:29:00\n",
            "Data columns (total 5 columns):\n",
            " #   Column  Non-Null Count   Dtype  \n",
            "---  ------  --------------   -----  \n",
            " 0   open    370677 non-null  float64\n",
            " 1   high    370677 non-null  float64\n",
            " 2   low     370677 non-null  float64\n",
            " 3   close   370677 non-null  float64\n",
            " 4   volume  370677 non-null  float64\n",
            "dtypes: float64(5)\n",
            "memory usage: 17.0 MB\n"
          ]
        }
      ],
      "source": [
        "df['timestamp'] = pd.to_datetime(df['timestamp'])\n",
        "df.set_index('timestamp', inplace=True)\n",
        "df.info()"
      ]
    },
    {
      "cell_type": "code",
      "execution_count": 7,
      "id": "69d97b5e",
      "metadata": {
        "colab": {
          "base_uri": "https://localhost:8080/",
          "height": 237
        },
        "id": "69d97b5e",
        "outputId": "0ee7304a-5b14-405b-e550-58bcbb2f5a3e"
      },
      "outputs": [
        {
          "output_type": "execute_result",
          "data": {
            "text/plain": [
              "                        open     high      low    close  volume\n",
              "timestamp                                                      \n",
              "2017-01-02 09:15:00  8210.10  8211.70  8189.00  8189.55     0.0\n",
              "2017-01-02 09:16:00  8188.75  8193.95  8188.75  8189.95     0.0\n",
              "2017-01-02 09:17:00  8190.15  8190.75  8173.70  8173.70     0.0\n",
              "2017-01-02 09:18:00  8173.35  8177.55  8169.15  8177.55     0.0\n",
              "2017-01-02 09:19:00  8177.85  8178.15  8173.45  8174.40     0.0"
            ],
            "text/html": [
              "\n",
              "  <div id=\"df-f3fd7c54-c63b-46c3-890e-4b91e5bf3b2d\">\n",
              "    <div class=\"colab-df-container\">\n",
              "      <div>\n",
              "<style scoped>\n",
              "    .dataframe tbody tr th:only-of-type {\n",
              "        vertical-align: middle;\n",
              "    }\n",
              "\n",
              "    .dataframe tbody tr th {\n",
              "        vertical-align: top;\n",
              "    }\n",
              "\n",
              "    .dataframe thead th {\n",
              "        text-align: right;\n",
              "    }\n",
              "</style>\n",
              "<table border=\"1\" class=\"dataframe\">\n",
              "  <thead>\n",
              "    <tr style=\"text-align: right;\">\n",
              "      <th></th>\n",
              "      <th>open</th>\n",
              "      <th>high</th>\n",
              "      <th>low</th>\n",
              "      <th>close</th>\n",
              "      <th>volume</th>\n",
              "    </tr>\n",
              "    <tr>\n",
              "      <th>timestamp</th>\n",
              "      <th></th>\n",
              "      <th></th>\n",
              "      <th></th>\n",
              "      <th></th>\n",
              "      <th></th>\n",
              "    </tr>\n",
              "  </thead>\n",
              "  <tbody>\n",
              "    <tr>\n",
              "      <th>2017-01-02 09:15:00</th>\n",
              "      <td>8210.10</td>\n",
              "      <td>8211.70</td>\n",
              "      <td>8189.00</td>\n",
              "      <td>8189.55</td>\n",
              "      <td>0.0</td>\n",
              "    </tr>\n",
              "    <tr>\n",
              "      <th>2017-01-02 09:16:00</th>\n",
              "      <td>8188.75</td>\n",
              "      <td>8193.95</td>\n",
              "      <td>8188.75</td>\n",
              "      <td>8189.95</td>\n",
              "      <td>0.0</td>\n",
              "    </tr>\n",
              "    <tr>\n",
              "      <th>2017-01-02 09:17:00</th>\n",
              "      <td>8190.15</td>\n",
              "      <td>8190.75</td>\n",
              "      <td>8173.70</td>\n",
              "      <td>8173.70</td>\n",
              "      <td>0.0</td>\n",
              "    </tr>\n",
              "    <tr>\n",
              "      <th>2017-01-02 09:18:00</th>\n",
              "      <td>8173.35</td>\n",
              "      <td>8177.55</td>\n",
              "      <td>8169.15</td>\n",
              "      <td>8177.55</td>\n",
              "      <td>0.0</td>\n",
              "    </tr>\n",
              "    <tr>\n",
              "      <th>2017-01-02 09:19:00</th>\n",
              "      <td>8177.85</td>\n",
              "      <td>8178.15</td>\n",
              "      <td>8173.45</td>\n",
              "      <td>8174.40</td>\n",
              "      <td>0.0</td>\n",
              "    </tr>\n",
              "  </tbody>\n",
              "</table>\n",
              "</div>\n",
              "      <button class=\"colab-df-convert\" onclick=\"convertToInteractive('df-f3fd7c54-c63b-46c3-890e-4b91e5bf3b2d')\"\n",
              "              title=\"Convert this dataframe to an interactive table.\"\n",
              "              style=\"display:none;\">\n",
              "        \n",
              "  <svg xmlns=\"http://www.w3.org/2000/svg\" height=\"24px\"viewBox=\"0 0 24 24\"\n",
              "       width=\"24px\">\n",
              "    <path d=\"M0 0h24v24H0V0z\" fill=\"none\"/>\n",
              "    <path d=\"M18.56 5.44l.94 2.06.94-2.06 2.06-.94-2.06-.94-.94-2.06-.94 2.06-2.06.94zm-11 1L8.5 8.5l.94-2.06 2.06-.94-2.06-.94L8.5 2.5l-.94 2.06-2.06.94zm10 10l.94 2.06.94-2.06 2.06-.94-2.06-.94-.94-2.06-.94 2.06-2.06.94z\"/><path d=\"M17.41 7.96l-1.37-1.37c-.4-.4-.92-.59-1.43-.59-.52 0-1.04.2-1.43.59L10.3 9.45l-7.72 7.72c-.78.78-.78 2.05 0 2.83L4 21.41c.39.39.9.59 1.41.59.51 0 1.02-.2 1.41-.59l7.78-7.78 2.81-2.81c.8-.78.8-2.07 0-2.86zM5.41 20L4 18.59l7.72-7.72 1.47 1.35L5.41 20z\"/>\n",
              "  </svg>\n",
              "      </button>\n",
              "      \n",
              "  <style>\n",
              "    .colab-df-container {\n",
              "      display:flex;\n",
              "      flex-wrap:wrap;\n",
              "      gap: 12px;\n",
              "    }\n",
              "\n",
              "    .colab-df-convert {\n",
              "      background-color: #E8F0FE;\n",
              "      border: none;\n",
              "      border-radius: 50%;\n",
              "      cursor: pointer;\n",
              "      display: none;\n",
              "      fill: #1967D2;\n",
              "      height: 32px;\n",
              "      padding: 0 0 0 0;\n",
              "      width: 32px;\n",
              "    }\n",
              "\n",
              "    .colab-df-convert:hover {\n",
              "      background-color: #E2EBFA;\n",
              "      box-shadow: 0px 1px 2px rgba(60, 64, 67, 0.3), 0px 1px 3px 1px rgba(60, 64, 67, 0.15);\n",
              "      fill: #174EA6;\n",
              "    }\n",
              "\n",
              "    [theme=dark] .colab-df-convert {\n",
              "      background-color: #3B4455;\n",
              "      fill: #D2E3FC;\n",
              "    }\n",
              "\n",
              "    [theme=dark] .colab-df-convert:hover {\n",
              "      background-color: #434B5C;\n",
              "      box-shadow: 0px 1px 3px 1px rgba(0, 0, 0, 0.15);\n",
              "      filter: drop-shadow(0px 1px 2px rgba(0, 0, 0, 0.3));\n",
              "      fill: #FFFFFF;\n",
              "    }\n",
              "  </style>\n",
              "\n",
              "      <script>\n",
              "        const buttonEl =\n",
              "          document.querySelector('#df-f3fd7c54-c63b-46c3-890e-4b91e5bf3b2d button.colab-df-convert');\n",
              "        buttonEl.style.display =\n",
              "          google.colab.kernel.accessAllowed ? 'block' : 'none';\n",
              "\n",
              "        async function convertToInteractive(key) {\n",
              "          const element = document.querySelector('#df-f3fd7c54-c63b-46c3-890e-4b91e5bf3b2d');\n",
              "          const dataTable =\n",
              "            await google.colab.kernel.invokeFunction('convertToInteractive',\n",
              "                                                     [key], {});\n",
              "          if (!dataTable) return;\n",
              "\n",
              "          const docLinkHtml = 'Like what you see? Visit the ' +\n",
              "            '<a target=\"_blank\" href=https://colab.research.google.com/notebooks/data_table.ipynb>data table notebook</a>'\n",
              "            + ' to learn more about interactive tables.';\n",
              "          element.innerHTML = '';\n",
              "          dataTable['output_type'] = 'display_data';\n",
              "          await google.colab.output.renderOutput(dataTable, element);\n",
              "          const docLink = document.createElement('div');\n",
              "          docLink.innerHTML = docLinkHtml;\n",
              "          element.appendChild(docLink);\n",
              "        }\n",
              "      </script>\n",
              "    </div>\n",
              "  </div>\n",
              "  "
            ]
          },
          "metadata": {},
          "execution_count": 7
        }
      ],
      "source": [
        "df.head()"
      ]
    },
    {
      "cell_type": "markdown",
      "source": [
        "**Create DataFrame**"
      ],
      "metadata": {
        "id": "V1pBSKKLyLbe"
      },
      "id": "V1pBSKKLyLbe"
    },
    {
      "cell_type": "code",
      "execution_count": 8,
      "id": "b7e15ca8",
      "metadata": {
        "colab": {
          "base_uri": "https://localhost:8080/",
          "height": 455
        },
        "id": "b7e15ca8",
        "outputId": "be5e99d6-f38b-4944-bf01-7f5a74f26a74"
      },
      "outputs": [
        {
          "output_type": "execute_result",
          "data": {
            "text/plain": [
              "                        close\n",
              "timestamp                    \n",
              "2017-01-02 09:15:00   8189.55\n",
              "2017-01-02 09:16:00   8189.95\n",
              "2017-01-02 09:17:00   8173.70\n",
              "2017-01-02 09:18:00   8177.55\n",
              "2017-01-02 09:19:00   8174.40\n",
              "...                       ...\n",
              "2021-01-01 15:25:00  14019.00\n",
              "2021-01-01 15:26:00  14019.10\n",
              "2021-01-01 15:27:00  14018.15\n",
              "2021-01-01 15:28:00  14015.00\n",
              "2021-01-01 15:29:00  14014.80\n",
              "\n",
              "[370740 rows x 1 columns]"
            ],
            "text/html": [
              "\n",
              "  <div id=\"df-cf961022-a46b-4182-b134-6e78033d1dd9\">\n",
              "    <div class=\"colab-df-container\">\n",
              "      <div>\n",
              "<style scoped>\n",
              "    .dataframe tbody tr th:only-of-type {\n",
              "        vertical-align: middle;\n",
              "    }\n",
              "\n",
              "    .dataframe tbody tr th {\n",
              "        vertical-align: top;\n",
              "    }\n",
              "\n",
              "    .dataframe thead th {\n",
              "        text-align: right;\n",
              "    }\n",
              "</style>\n",
              "<table border=\"1\" class=\"dataframe\">\n",
              "  <thead>\n",
              "    <tr style=\"text-align: right;\">\n",
              "      <th></th>\n",
              "      <th>close</th>\n",
              "    </tr>\n",
              "    <tr>\n",
              "      <th>timestamp</th>\n",
              "      <th></th>\n",
              "    </tr>\n",
              "  </thead>\n",
              "  <tbody>\n",
              "    <tr>\n",
              "      <th>2017-01-02 09:15:00</th>\n",
              "      <td>8189.55</td>\n",
              "    </tr>\n",
              "    <tr>\n",
              "      <th>2017-01-02 09:16:00</th>\n",
              "      <td>8189.95</td>\n",
              "    </tr>\n",
              "    <tr>\n",
              "      <th>2017-01-02 09:17:00</th>\n",
              "      <td>8173.70</td>\n",
              "    </tr>\n",
              "    <tr>\n",
              "      <th>2017-01-02 09:18:00</th>\n",
              "      <td>8177.55</td>\n",
              "    </tr>\n",
              "    <tr>\n",
              "      <th>2017-01-02 09:19:00</th>\n",
              "      <td>8174.40</td>\n",
              "    </tr>\n",
              "    <tr>\n",
              "      <th>...</th>\n",
              "      <td>...</td>\n",
              "    </tr>\n",
              "    <tr>\n",
              "      <th>2021-01-01 15:25:00</th>\n",
              "      <td>14019.00</td>\n",
              "    </tr>\n",
              "    <tr>\n",
              "      <th>2021-01-01 15:26:00</th>\n",
              "      <td>14019.10</td>\n",
              "    </tr>\n",
              "    <tr>\n",
              "      <th>2021-01-01 15:27:00</th>\n",
              "      <td>14018.15</td>\n",
              "    </tr>\n",
              "    <tr>\n",
              "      <th>2021-01-01 15:28:00</th>\n",
              "      <td>14015.00</td>\n",
              "    </tr>\n",
              "    <tr>\n",
              "      <th>2021-01-01 15:29:00</th>\n",
              "      <td>14014.80</td>\n",
              "    </tr>\n",
              "  </tbody>\n",
              "</table>\n",
              "<p>370740 rows × 1 columns</p>\n",
              "</div>\n",
              "      <button class=\"colab-df-convert\" onclick=\"convertToInteractive('df-cf961022-a46b-4182-b134-6e78033d1dd9')\"\n",
              "              title=\"Convert this dataframe to an interactive table.\"\n",
              "              style=\"display:none;\">\n",
              "        \n",
              "  <svg xmlns=\"http://www.w3.org/2000/svg\" height=\"24px\"viewBox=\"0 0 24 24\"\n",
              "       width=\"24px\">\n",
              "    <path d=\"M0 0h24v24H0V0z\" fill=\"none\"/>\n",
              "    <path d=\"M18.56 5.44l.94 2.06.94-2.06 2.06-.94-2.06-.94-.94-2.06-.94 2.06-2.06.94zm-11 1L8.5 8.5l.94-2.06 2.06-.94-2.06-.94L8.5 2.5l-.94 2.06-2.06.94zm10 10l.94 2.06.94-2.06 2.06-.94-2.06-.94-.94-2.06-.94 2.06-2.06.94z\"/><path d=\"M17.41 7.96l-1.37-1.37c-.4-.4-.92-.59-1.43-.59-.52 0-1.04.2-1.43.59L10.3 9.45l-7.72 7.72c-.78.78-.78 2.05 0 2.83L4 21.41c.39.39.9.59 1.41.59.51 0 1.02-.2 1.41-.59l7.78-7.78 2.81-2.81c.8-.78.8-2.07 0-2.86zM5.41 20L4 18.59l7.72-7.72 1.47 1.35L5.41 20z\"/>\n",
              "  </svg>\n",
              "      </button>\n",
              "      \n",
              "  <style>\n",
              "    .colab-df-container {\n",
              "      display:flex;\n",
              "      flex-wrap:wrap;\n",
              "      gap: 12px;\n",
              "    }\n",
              "\n",
              "    .colab-df-convert {\n",
              "      background-color: #E8F0FE;\n",
              "      border: none;\n",
              "      border-radius: 50%;\n",
              "      cursor: pointer;\n",
              "      display: none;\n",
              "      fill: #1967D2;\n",
              "      height: 32px;\n",
              "      padding: 0 0 0 0;\n",
              "      width: 32px;\n",
              "    }\n",
              "\n",
              "    .colab-df-convert:hover {\n",
              "      background-color: #E2EBFA;\n",
              "      box-shadow: 0px 1px 2px rgba(60, 64, 67, 0.3), 0px 1px 3px 1px rgba(60, 64, 67, 0.15);\n",
              "      fill: #174EA6;\n",
              "    }\n",
              "\n",
              "    [theme=dark] .colab-df-convert {\n",
              "      background-color: #3B4455;\n",
              "      fill: #D2E3FC;\n",
              "    }\n",
              "\n",
              "    [theme=dark] .colab-df-convert:hover {\n",
              "      background-color: #434B5C;\n",
              "      box-shadow: 0px 1px 3px 1px rgba(0, 0, 0, 0.15);\n",
              "      filter: drop-shadow(0px 1px 2px rgba(0, 0, 0, 0.3));\n",
              "      fill: #FFFFFF;\n",
              "    }\n",
              "  </style>\n",
              "\n",
              "      <script>\n",
              "        const buttonEl =\n",
              "          document.querySelector('#df-cf961022-a46b-4182-b134-6e78033d1dd9 button.colab-df-convert');\n",
              "        buttonEl.style.display =\n",
              "          google.colab.kernel.accessAllowed ? 'block' : 'none';\n",
              "\n",
              "        async function convertToInteractive(key) {\n",
              "          const element = document.querySelector('#df-cf961022-a46b-4182-b134-6e78033d1dd9');\n",
              "          const dataTable =\n",
              "            await google.colab.kernel.invokeFunction('convertToInteractive',\n",
              "                                                     [key], {});\n",
              "          if (!dataTable) return;\n",
              "\n",
              "          const docLinkHtml = 'Like what you see? Visit the ' +\n",
              "            '<a target=\"_blank\" href=https://colab.research.google.com/notebooks/data_table.ipynb>data table notebook</a>'\n",
              "            + ' to learn more about interactive tables.';\n",
              "          element.innerHTML = '';\n",
              "          dataTable['output_type'] = 'display_data';\n",
              "          await google.colab.output.renderOutput(dataTable, element);\n",
              "          const docLink = document.createElement('div');\n",
              "          docLink.innerHTML = docLinkHtml;\n",
              "          element.appendChild(docLink);\n",
              "        }\n",
              "      </script>\n",
              "    </div>\n",
              "  </div>\n",
              "  "
            ]
          },
          "metadata": {},
          "execution_count": 8
        }
      ],
      "source": [
        "df_arima=pd.DataFrame(df['close'])\n",
        "df_arima"
      ]
    },
    {
      "cell_type": "markdown",
      "source": [
        "**Select 50000 rows**"
      ],
      "metadata": {
        "id": "Pfj_cRvZyFyu"
      },
      "id": "Pfj_cRvZyFyu"
    },
    {
      "cell_type": "code",
      "execution_count": 9,
      "id": "7d2fbd0f",
      "metadata": {
        "id": "7d2fbd0f"
      },
      "outputs": [],
      "source": [
        "df_arima=df_arima.iloc[-50001:-1,].copy()"
      ]
    },
    {
      "cell_type": "code",
      "execution_count": 10,
      "id": "f5ee952c",
      "metadata": {
        "colab": {
          "base_uri": "https://localhost:8080/",
          "height": 455
        },
        "id": "f5ee952c",
        "outputId": "808d58b1-6563-41e5-f03f-0302bca32277"
      },
      "outputs": [
        {
          "output_type": "execute_result",
          "data": {
            "text/plain": [
              "                        close\n",
              "timestamp                    \n",
              "2020-06-24 14:24:00  10410.25\n",
              "2020-06-24 14:25:00  10416.45\n",
              "2020-06-24 14:26:00  10408.75\n",
              "2020-06-24 14:27:00  10404.50\n",
              "2020-06-24 14:28:00  10407.30\n",
              "...                       ...\n",
              "2021-01-01 15:24:00  14022.70\n",
              "2021-01-01 15:25:00  14019.00\n",
              "2021-01-01 15:26:00  14019.10\n",
              "2021-01-01 15:27:00  14018.15\n",
              "2021-01-01 15:28:00  14015.00\n",
              "\n",
              "[50000 rows x 1 columns]"
            ],
            "text/html": [
              "\n",
              "  <div id=\"df-8846f0b9-f85a-4d75-ba33-87c45f1c472f\">\n",
              "    <div class=\"colab-df-container\">\n",
              "      <div>\n",
              "<style scoped>\n",
              "    .dataframe tbody tr th:only-of-type {\n",
              "        vertical-align: middle;\n",
              "    }\n",
              "\n",
              "    .dataframe tbody tr th {\n",
              "        vertical-align: top;\n",
              "    }\n",
              "\n",
              "    .dataframe thead th {\n",
              "        text-align: right;\n",
              "    }\n",
              "</style>\n",
              "<table border=\"1\" class=\"dataframe\">\n",
              "  <thead>\n",
              "    <tr style=\"text-align: right;\">\n",
              "      <th></th>\n",
              "      <th>close</th>\n",
              "    </tr>\n",
              "    <tr>\n",
              "      <th>timestamp</th>\n",
              "      <th></th>\n",
              "    </tr>\n",
              "  </thead>\n",
              "  <tbody>\n",
              "    <tr>\n",
              "      <th>2020-06-24 14:24:00</th>\n",
              "      <td>10410.25</td>\n",
              "    </tr>\n",
              "    <tr>\n",
              "      <th>2020-06-24 14:25:00</th>\n",
              "      <td>10416.45</td>\n",
              "    </tr>\n",
              "    <tr>\n",
              "      <th>2020-06-24 14:26:00</th>\n",
              "      <td>10408.75</td>\n",
              "    </tr>\n",
              "    <tr>\n",
              "      <th>2020-06-24 14:27:00</th>\n",
              "      <td>10404.50</td>\n",
              "    </tr>\n",
              "    <tr>\n",
              "      <th>2020-06-24 14:28:00</th>\n",
              "      <td>10407.30</td>\n",
              "    </tr>\n",
              "    <tr>\n",
              "      <th>...</th>\n",
              "      <td>...</td>\n",
              "    </tr>\n",
              "    <tr>\n",
              "      <th>2021-01-01 15:24:00</th>\n",
              "      <td>14022.70</td>\n",
              "    </tr>\n",
              "    <tr>\n",
              "      <th>2021-01-01 15:25:00</th>\n",
              "      <td>14019.00</td>\n",
              "    </tr>\n",
              "    <tr>\n",
              "      <th>2021-01-01 15:26:00</th>\n",
              "      <td>14019.10</td>\n",
              "    </tr>\n",
              "    <tr>\n",
              "      <th>2021-01-01 15:27:00</th>\n",
              "      <td>14018.15</td>\n",
              "    </tr>\n",
              "    <tr>\n",
              "      <th>2021-01-01 15:28:00</th>\n",
              "      <td>14015.00</td>\n",
              "    </tr>\n",
              "  </tbody>\n",
              "</table>\n",
              "<p>50000 rows × 1 columns</p>\n",
              "</div>\n",
              "      <button class=\"colab-df-convert\" onclick=\"convertToInteractive('df-8846f0b9-f85a-4d75-ba33-87c45f1c472f')\"\n",
              "              title=\"Convert this dataframe to an interactive table.\"\n",
              "              style=\"display:none;\">\n",
              "        \n",
              "  <svg xmlns=\"http://www.w3.org/2000/svg\" height=\"24px\"viewBox=\"0 0 24 24\"\n",
              "       width=\"24px\">\n",
              "    <path d=\"M0 0h24v24H0V0z\" fill=\"none\"/>\n",
              "    <path d=\"M18.56 5.44l.94 2.06.94-2.06 2.06-.94-2.06-.94-.94-2.06-.94 2.06-2.06.94zm-11 1L8.5 8.5l.94-2.06 2.06-.94-2.06-.94L8.5 2.5l-.94 2.06-2.06.94zm10 10l.94 2.06.94-2.06 2.06-.94-2.06-.94-.94-2.06-.94 2.06-2.06.94z\"/><path d=\"M17.41 7.96l-1.37-1.37c-.4-.4-.92-.59-1.43-.59-.52 0-1.04.2-1.43.59L10.3 9.45l-7.72 7.72c-.78.78-.78 2.05 0 2.83L4 21.41c.39.39.9.59 1.41.59.51 0 1.02-.2 1.41-.59l7.78-7.78 2.81-2.81c.8-.78.8-2.07 0-2.86zM5.41 20L4 18.59l7.72-7.72 1.47 1.35L5.41 20z\"/>\n",
              "  </svg>\n",
              "      </button>\n",
              "      \n",
              "  <style>\n",
              "    .colab-df-container {\n",
              "      display:flex;\n",
              "      flex-wrap:wrap;\n",
              "      gap: 12px;\n",
              "    }\n",
              "\n",
              "    .colab-df-convert {\n",
              "      background-color: #E8F0FE;\n",
              "      border: none;\n",
              "      border-radius: 50%;\n",
              "      cursor: pointer;\n",
              "      display: none;\n",
              "      fill: #1967D2;\n",
              "      height: 32px;\n",
              "      padding: 0 0 0 0;\n",
              "      width: 32px;\n",
              "    }\n",
              "\n",
              "    .colab-df-convert:hover {\n",
              "      background-color: #E2EBFA;\n",
              "      box-shadow: 0px 1px 2px rgba(60, 64, 67, 0.3), 0px 1px 3px 1px rgba(60, 64, 67, 0.15);\n",
              "      fill: #174EA6;\n",
              "    }\n",
              "\n",
              "    [theme=dark] .colab-df-convert {\n",
              "      background-color: #3B4455;\n",
              "      fill: #D2E3FC;\n",
              "    }\n",
              "\n",
              "    [theme=dark] .colab-df-convert:hover {\n",
              "      background-color: #434B5C;\n",
              "      box-shadow: 0px 1px 3px 1px rgba(0, 0, 0, 0.15);\n",
              "      filter: drop-shadow(0px 1px 2px rgba(0, 0, 0, 0.3));\n",
              "      fill: #FFFFFF;\n",
              "    }\n",
              "  </style>\n",
              "\n",
              "      <script>\n",
              "        const buttonEl =\n",
              "          document.querySelector('#df-8846f0b9-f85a-4d75-ba33-87c45f1c472f button.colab-df-convert');\n",
              "        buttonEl.style.display =\n",
              "          google.colab.kernel.accessAllowed ? 'block' : 'none';\n",
              "\n",
              "        async function convertToInteractive(key) {\n",
              "          const element = document.querySelector('#df-8846f0b9-f85a-4d75-ba33-87c45f1c472f');\n",
              "          const dataTable =\n",
              "            await google.colab.kernel.invokeFunction('convertToInteractive',\n",
              "                                                     [key], {});\n",
              "          if (!dataTable) return;\n",
              "\n",
              "          const docLinkHtml = 'Like what you see? Visit the ' +\n",
              "            '<a target=\"_blank\" href=https://colab.research.google.com/notebooks/data_table.ipynb>data table notebook</a>'\n",
              "            + ' to learn more about interactive tables.';\n",
              "          element.innerHTML = '';\n",
              "          dataTable['output_type'] = 'display_data';\n",
              "          await google.colab.output.renderOutput(dataTable, element);\n",
              "          const docLink = document.createElement('div');\n",
              "          docLink.innerHTML = docLinkHtml;\n",
              "          element.appendChild(docLink);\n",
              "        }\n",
              "      </script>\n",
              "    </div>\n",
              "  </div>\n",
              "  "
            ]
          },
          "metadata": {},
          "execution_count": 10
        }
      ],
      "source": [
        "df_arima"
      ]
    },
    {
      "cell_type": "code",
      "execution_count": 11,
      "id": "13722f65",
      "metadata": {
        "colab": {
          "base_uri": "https://localhost:8080/"
        },
        "id": "13722f65",
        "outputId": "c1f30fb3-c765-4cbb-9fcb-8a0e989d1444"
      },
      "outputs": [
        {
          "output_type": "execute_result",
          "data": {
            "text/plain": [
              "close    3\n",
              "dtype: int64"
            ]
          },
          "metadata": {},
          "execution_count": 11
        }
      ],
      "source": [
        "df_arima.isnull().sum()"
      ]
    },
    {
      "cell_type": "code",
      "execution_count": 12,
      "id": "63a2f186",
      "metadata": {
        "id": "63a2f186"
      },
      "outputs": [],
      "source": [
        "df_arima.fillna(method='ffill',inplace=True)"
      ]
    },
    {
      "cell_type": "code",
      "execution_count": 13,
      "id": "cd5364f7",
      "metadata": {
        "colab": {
          "base_uri": "https://localhost:8080/"
        },
        "id": "cd5364f7",
        "outputId": "1f46badd-8d31-49e2-e014-a9e552b9cb54"
      },
      "outputs": [
        {
          "output_type": "execute_result",
          "data": {
            "text/plain": [
              "close    0\n",
              "dtype: int64"
            ]
          },
          "metadata": {},
          "execution_count": 13
        }
      ],
      "source": [
        "df_arima.isnull().sum()\n",
        "df_arima.isna().sum()"
      ]
    },
    {
      "cell_type": "markdown",
      "id": "e7adc764",
      "metadata": {
        "id": "e7adc764"
      },
      "source": [
        "## Check for Data is stationary or not using Dickey Fuller Test using Statsmodel library"
      ]
    },
    {
      "cell_type": "code",
      "execution_count": 14,
      "id": "fd94f1ef",
      "metadata": {
        "id": "fd94f1ef"
      },
      "outputs": [],
      "source": [
        "from statsmodels.tsa.stattools import adfuller\n",
        "#H0 Data is not stationary\n",
        "#H1 Data is Stationary"
      ]
    },
    {
      "cell_type": "code",
      "execution_count": 15,
      "id": "b32d2985",
      "metadata": {
        "id": "b32d2985"
      },
      "outputs": [],
      "source": [
        "def adf_test(series):\n",
        "    result=adfuller(series)\n",
        "    print('ADF Statistics: {}'.format(result[0]))\n",
        "    print('p- value: {}'.format(result[1]))\n",
        "    if result[1] <= 0.05:\n",
        "        print(\"strong evidence against the null hypothesis, reject the null hypothesis. Data has no unit root and is stationary\")\n",
        "    else:\n",
        "        print(\"weak evidence against null hypothesis, time series has a unit root, indicating it is non-stationary \")"
      ]
    },
    {
      "cell_type": "code",
      "execution_count": 16,
      "id": "d8d19c98",
      "metadata": {
        "colab": {
          "base_uri": "https://localhost:8080/"
        },
        "id": "d8d19c98",
        "outputId": "e43bc9f4-9877-49d1-8bb6-6f96d67eb643"
      },
      "outputs": [
        {
          "output_type": "stream",
          "name": "stdout",
          "text": [
            "ADF Statistics: 0.24132601305339846\n",
            "p- value: 0.9744864911770148\n",
            "weak evidence against null hypothesis, time series has a unit root, indicating it is non-stationary \n"
          ]
        }
      ],
      "source": [
        "adf_test(df_arima['close'])"
      ]
    },
    {
      "cell_type": "code",
      "execution_count": 17,
      "id": "f42556f2",
      "metadata": {
        "colab": {
          "base_uri": "https://localhost:8080/"
        },
        "id": "f42556f2",
        "outputId": "0c104b62-0ecf-4230-a67b-3b01d022dbf9"
      },
      "outputs": [
        {
          "output_type": "stream",
          "name": "stdout",
          "text": [
            "adf= 0.24132601305339846  pvalue= 0.9744864911770148 nobs= 49968 cvalue= {'1%': -3.430480876480283, '5%': -2.8615978447156234, '10%': -2.56680078882917} icbest= 322393.1908765625\n"
          ]
        }
      ],
      "source": [
        "adf,pvalue,usedlag,nobs,cvalue,icbest = adfuller(df_arima['close'])\n",
        "print(\"adf=\",adf,\" pvalue=\",pvalue,\"nobs=\",nobs,\"cvalue=\",cvalue,\"icbest=\",icbest)"
      ]
    },
    {
      "cell_type": "code",
      "execution_count": 18,
      "id": "5a7197e8",
      "metadata": {
        "id": "5a7197e8"
      },
      "outputs": [],
      "source": [
        "#Data is not stationary so use diffrencing"
      ]
    },
    {
      "cell_type": "code",
      "execution_count": 19,
      "id": "ff6deb2d",
      "metadata": {
        "id": "ff6deb2d"
      },
      "outputs": [],
      "source": [
        "## Use Techniques Differencing\n",
        "df_arima['close first Diffrencing']=df_arima['close']-(df_arima['close'].shift(1))"
      ]
    },
    {
      "cell_type": "code",
      "execution_count": 20,
      "id": "385e502d",
      "metadata": {
        "colab": {
          "base_uri": "https://localhost:8080/",
          "height": 455
        },
        "id": "385e502d",
        "outputId": "6396545f-d320-420a-d3af-f15b0ed99fb3"
      },
      "outputs": [
        {
          "output_type": "execute_result",
          "data": {
            "text/plain": [
              "                        close  close first Diffrencing\n",
              "timestamp                                             \n",
              "2020-06-24 14:24:00  10410.25                      NaN\n",
              "2020-06-24 14:25:00  10416.45                     6.20\n",
              "2020-06-24 14:26:00  10408.75                    -7.70\n",
              "2020-06-24 14:27:00  10404.50                    -4.25\n",
              "2020-06-24 14:28:00  10407.30                     2.80\n",
              "...                       ...                      ...\n",
              "2021-01-01 15:24:00  14022.70                     4.50\n",
              "2021-01-01 15:25:00  14019.00                    -3.70\n",
              "2021-01-01 15:26:00  14019.10                     0.10\n",
              "2021-01-01 15:27:00  14018.15                    -0.95\n",
              "2021-01-01 15:28:00  14015.00                    -3.15\n",
              "\n",
              "[50000 rows x 2 columns]"
            ],
            "text/html": [
              "\n",
              "  <div id=\"df-a2d6840c-32f3-4db0-80d1-2e2f4ca8fefc\">\n",
              "    <div class=\"colab-df-container\">\n",
              "      <div>\n",
              "<style scoped>\n",
              "    .dataframe tbody tr th:only-of-type {\n",
              "        vertical-align: middle;\n",
              "    }\n",
              "\n",
              "    .dataframe tbody tr th {\n",
              "        vertical-align: top;\n",
              "    }\n",
              "\n",
              "    .dataframe thead th {\n",
              "        text-align: right;\n",
              "    }\n",
              "</style>\n",
              "<table border=\"1\" class=\"dataframe\">\n",
              "  <thead>\n",
              "    <tr style=\"text-align: right;\">\n",
              "      <th></th>\n",
              "      <th>close</th>\n",
              "      <th>close first Diffrencing</th>\n",
              "    </tr>\n",
              "    <tr>\n",
              "      <th>timestamp</th>\n",
              "      <th></th>\n",
              "      <th></th>\n",
              "    </tr>\n",
              "  </thead>\n",
              "  <tbody>\n",
              "    <tr>\n",
              "      <th>2020-06-24 14:24:00</th>\n",
              "      <td>10410.25</td>\n",
              "      <td>NaN</td>\n",
              "    </tr>\n",
              "    <tr>\n",
              "      <th>2020-06-24 14:25:00</th>\n",
              "      <td>10416.45</td>\n",
              "      <td>6.20</td>\n",
              "    </tr>\n",
              "    <tr>\n",
              "      <th>2020-06-24 14:26:00</th>\n",
              "      <td>10408.75</td>\n",
              "      <td>-7.70</td>\n",
              "    </tr>\n",
              "    <tr>\n",
              "      <th>2020-06-24 14:27:00</th>\n",
              "      <td>10404.50</td>\n",
              "      <td>-4.25</td>\n",
              "    </tr>\n",
              "    <tr>\n",
              "      <th>2020-06-24 14:28:00</th>\n",
              "      <td>10407.30</td>\n",
              "      <td>2.80</td>\n",
              "    </tr>\n",
              "    <tr>\n",
              "      <th>...</th>\n",
              "      <td>...</td>\n",
              "      <td>...</td>\n",
              "    </tr>\n",
              "    <tr>\n",
              "      <th>2021-01-01 15:24:00</th>\n",
              "      <td>14022.70</td>\n",
              "      <td>4.50</td>\n",
              "    </tr>\n",
              "    <tr>\n",
              "      <th>2021-01-01 15:25:00</th>\n",
              "      <td>14019.00</td>\n",
              "      <td>-3.70</td>\n",
              "    </tr>\n",
              "    <tr>\n",
              "      <th>2021-01-01 15:26:00</th>\n",
              "      <td>14019.10</td>\n",
              "      <td>0.10</td>\n",
              "    </tr>\n",
              "    <tr>\n",
              "      <th>2021-01-01 15:27:00</th>\n",
              "      <td>14018.15</td>\n",
              "      <td>-0.95</td>\n",
              "    </tr>\n",
              "    <tr>\n",
              "      <th>2021-01-01 15:28:00</th>\n",
              "      <td>14015.00</td>\n",
              "      <td>-3.15</td>\n",
              "    </tr>\n",
              "  </tbody>\n",
              "</table>\n",
              "<p>50000 rows × 2 columns</p>\n",
              "</div>\n",
              "      <button class=\"colab-df-convert\" onclick=\"convertToInteractive('df-a2d6840c-32f3-4db0-80d1-2e2f4ca8fefc')\"\n",
              "              title=\"Convert this dataframe to an interactive table.\"\n",
              "              style=\"display:none;\">\n",
              "        \n",
              "  <svg xmlns=\"http://www.w3.org/2000/svg\" height=\"24px\"viewBox=\"0 0 24 24\"\n",
              "       width=\"24px\">\n",
              "    <path d=\"M0 0h24v24H0V0z\" fill=\"none\"/>\n",
              "    <path d=\"M18.56 5.44l.94 2.06.94-2.06 2.06-.94-2.06-.94-.94-2.06-.94 2.06-2.06.94zm-11 1L8.5 8.5l.94-2.06 2.06-.94-2.06-.94L8.5 2.5l-.94 2.06-2.06.94zm10 10l.94 2.06.94-2.06 2.06-.94-2.06-.94-.94-2.06-.94 2.06-2.06.94z\"/><path d=\"M17.41 7.96l-1.37-1.37c-.4-.4-.92-.59-1.43-.59-.52 0-1.04.2-1.43.59L10.3 9.45l-7.72 7.72c-.78.78-.78 2.05 0 2.83L4 21.41c.39.39.9.59 1.41.59.51 0 1.02-.2 1.41-.59l7.78-7.78 2.81-2.81c.8-.78.8-2.07 0-2.86zM5.41 20L4 18.59l7.72-7.72 1.47 1.35L5.41 20z\"/>\n",
              "  </svg>\n",
              "      </button>\n",
              "      \n",
              "  <style>\n",
              "    .colab-df-container {\n",
              "      display:flex;\n",
              "      flex-wrap:wrap;\n",
              "      gap: 12px;\n",
              "    }\n",
              "\n",
              "    .colab-df-convert {\n",
              "      background-color: #E8F0FE;\n",
              "      border: none;\n",
              "      border-radius: 50%;\n",
              "      cursor: pointer;\n",
              "      display: none;\n",
              "      fill: #1967D2;\n",
              "      height: 32px;\n",
              "      padding: 0 0 0 0;\n",
              "      width: 32px;\n",
              "    }\n",
              "\n",
              "    .colab-df-convert:hover {\n",
              "      background-color: #E2EBFA;\n",
              "      box-shadow: 0px 1px 2px rgba(60, 64, 67, 0.3), 0px 1px 3px 1px rgba(60, 64, 67, 0.15);\n",
              "      fill: #174EA6;\n",
              "    }\n",
              "\n",
              "    [theme=dark] .colab-df-convert {\n",
              "      background-color: #3B4455;\n",
              "      fill: #D2E3FC;\n",
              "    }\n",
              "\n",
              "    [theme=dark] .colab-df-convert:hover {\n",
              "      background-color: #434B5C;\n",
              "      box-shadow: 0px 1px 3px 1px rgba(0, 0, 0, 0.15);\n",
              "      filter: drop-shadow(0px 1px 2px rgba(0, 0, 0, 0.3));\n",
              "      fill: #FFFFFF;\n",
              "    }\n",
              "  </style>\n",
              "\n",
              "      <script>\n",
              "        const buttonEl =\n",
              "          document.querySelector('#df-a2d6840c-32f3-4db0-80d1-2e2f4ca8fefc button.colab-df-convert');\n",
              "        buttonEl.style.display =\n",
              "          google.colab.kernel.accessAllowed ? 'block' : 'none';\n",
              "\n",
              "        async function convertToInteractive(key) {\n",
              "          const element = document.querySelector('#df-a2d6840c-32f3-4db0-80d1-2e2f4ca8fefc');\n",
              "          const dataTable =\n",
              "            await google.colab.kernel.invokeFunction('convertToInteractive',\n",
              "                                                     [key], {});\n",
              "          if (!dataTable) return;\n",
              "\n",
              "          const docLinkHtml = 'Like what you see? Visit the ' +\n",
              "            '<a target=\"_blank\" href=https://colab.research.google.com/notebooks/data_table.ipynb>data table notebook</a>'\n",
              "            + ' to learn more about interactive tables.';\n",
              "          element.innerHTML = '';\n",
              "          dataTable['output_type'] = 'display_data';\n",
              "          await google.colab.output.renderOutput(dataTable, element);\n",
              "          const docLink = document.createElement('div');\n",
              "          docLink.innerHTML = docLinkHtml;\n",
              "          element.appendChild(docLink);\n",
              "        }\n",
              "      </script>\n",
              "    </div>\n",
              "  </div>\n",
              "  "
            ]
          },
          "metadata": {},
          "execution_count": 20
        }
      ],
      "source": [
        "df_arima"
      ]
    },
    {
      "cell_type": "code",
      "execution_count": 21,
      "id": "19b58563",
      "metadata": {
        "colab": {
          "base_uri": "https://localhost:8080/"
        },
        "id": "19b58563",
        "outputId": "f1f01dc7-cad6-4225-fb29-2050534cd70c"
      },
      "outputs": [
        {
          "output_type": "execute_result",
          "data": {
            "text/plain": [
              "timestamp\n",
              "2017-01-02 09:15:00     8189.55\n",
              "2017-01-03 09:15:00     8173.45\n",
              "2017-01-04 09:15:00     8201.40\n",
              "2017-01-05 09:15:00     8229.35\n",
              "2017-01-06 09:15:00     8290.95\n",
              "                         ...   \n",
              "2020-12-28 09:15:00    13844.10\n",
              "2020-12-29 09:15:00    13941.35\n",
              "2020-12-30 09:15:00    13950.30\n",
              "2020-12-31 09:15:00    13953.25\n",
              "2021-01-01 09:15:00    14013.15\n",
              "Freq: B, Name: close, Length: 1045, dtype: float64"
            ]
          },
          "metadata": {},
          "execution_count": 21
        }
      ],
      "source": [
        "df.asfreq(\"B\")['close']"
      ]
    },
    {
      "cell_type": "code",
      "execution_count": 22,
      "id": "7a6eef5d",
      "metadata": {
        "id": "7a6eef5d"
      },
      "outputs": [],
      "source": [
        "#Drop Na after first diffrencing"
      ]
    },
    {
      "cell_type": "code",
      "execution_count": 23,
      "id": "259d50d9",
      "metadata": {
        "colab": {
          "base_uri": "https://localhost:8080/"
        },
        "id": "259d50d9",
        "outputId": "06999215-9da3-4f29-a391-ec459d4324ea"
      },
      "outputs": [
        {
          "output_type": "execute_result",
          "data": {
            "text/plain": [
              "close                      0\n",
              "close first Diffrencing    1\n",
              "dtype: int64"
            ]
          },
          "metadata": {},
          "execution_count": 23
        }
      ],
      "source": [
        "df_arima.isnull().sum()"
      ]
    },
    {
      "cell_type": "code",
      "execution_count": 24,
      "id": "46695ed4",
      "metadata": {
        "id": "46695ed4"
      },
      "outputs": [],
      "source": [
        "df_arima.dropna(inplace=True)"
      ]
    },
    {
      "cell_type": "code",
      "execution_count": 25,
      "id": "ccfa8a0e",
      "metadata": {
        "colab": {
          "base_uri": "https://localhost:8080/"
        },
        "id": "ccfa8a0e",
        "outputId": "2333a538-a0f3-4097-9f22-9a70e30938e8"
      },
      "outputs": [
        {
          "output_type": "stream",
          "name": "stdout",
          "text": [
            "ADF Statistics: -40.33358230340236\n",
            "p- value: 0.0\n",
            "strong evidence against the null hypothesis, reject the null hypothesis. Data has no unit root and is stationary\n"
          ]
        }
      ],
      "source": [
        "adf_test(df_arima['close first Diffrencing'])"
      ]
    },
    {
      "cell_type": "code",
      "execution_count": 26,
      "id": "4de0404e",
      "metadata": {
        "id": "4de0404e"
      },
      "outputs": [],
      "source": [
        "#pValue is 0 < 0.05 thus Data is stationary"
      ]
    },
    {
      "cell_type": "markdown",
      "source": [
        "##ACF and PACF graphs"
      ],
      "metadata": {
        "id": "JbQuBGScr6EE"
      },
      "id": "JbQuBGScr6EE"
    },
    {
      "cell_type": "code",
      "execution_count": 27,
      "id": "78374b97",
      "metadata": {
        "id": "78374b97"
      },
      "outputs": [],
      "source": [
        "from statsmodels.graphics.tsaplots import plot_acf,plot_pacf"
      ]
    },
    {
      "cell_type": "code",
      "execution_count": 28,
      "id": "289bfd3b",
      "metadata": {
        "colab": {
          "base_uri": "https://localhost:8080/",
          "height": 281
        },
        "id": "289bfd3b",
        "outputId": "872db06a-3bec-43e6-fd19-f020b3b57bec"
      },
      "outputs": [
        {
          "output_type": "display_data",
          "data": {
            "text/plain": [
              "<Figure size 432x288 with 1 Axes>"
            ],
            "image/png": "[encoded data removed]"
          },
          "metadata": {
            "needs_background": "light"
          }
        }
      ],
      "source": [
        "acf = plot_acf(df_arima[\"close first Diffrencing\"].dropna())"
      ]
    },
    {
      "cell_type": "code",
      "execution_count": 29,
      "id": "5877d6da",
      "metadata": {
        "colab": {
          "base_uri": "https://localhost:8080/",
          "height": 281
        },
        "id": "5877d6da",
        "outputId": "4e5b4bb3-bb62-4cc7-8d6d-3159a037ffff"
      },
      "outputs": [
        {
          "output_type": "display_data",
          "data": {
            "text/plain": [
              "<Figure size 432x288 with 1 Axes>"
            ],
            "image/png": "[encoded data removed]"
          },
          "metadata": {
            "needs_background": "light"
          }
        }
      ],
      "source": [
        "pacf_second = plot_pacf(df_arima[\"close first Diffrencing\"].dropna())"
      ]
    },
    {
      "cell_type": "code",
      "execution_count": 30,
      "id": "bdd4cde9",
      "metadata": {
        "colab": {
          "base_uri": "https://localhost:8080/"
        },
        "id": "bdd4cde9",
        "outputId": "7fe872c6-a6a5-4032-afe3-8fdf32e1c9c2"
      },
      "outputs": [
        {
          "output_type": "execute_result",
          "data": {
            "text/plain": [
              "Timestamp('2020-06-24 14:25:00')"
            ]
          },
          "metadata": {},
          "execution_count": 30
        }
      ],
      "source": [
        "df_arima.index.min()"
      ]
    },
    {
      "cell_type": "code",
      "execution_count": 31,
      "id": "a1d66434",
      "metadata": {
        "colab": {
          "base_uri": "https://localhost:8080/"
        },
        "id": "a1d66434",
        "outputId": "4f14e7f8-cf2f-42ae-9f62-d13755f10972"
      },
      "outputs": [
        {
          "output_type": "execute_result",
          "data": {
            "text/plain": [
              "Timestamp('2021-01-01 15:28:00')"
            ]
          },
          "metadata": {},
          "execution_count": 31
        }
      ],
      "source": [
        "df_arima.index.max()"
      ]
    },
    {
      "cell_type": "code",
      "execution_count": null,
      "id": "b87be9bc",
      "metadata": {
        "id": "b87be9bc"
      },
      "outputs": [],
      "source": [
        "#374 min from 9:15 am to 3:29 pm\n",
        "#374 of 1 day \n",
        "#374 * 22\n",
        "#8228 rows for 1 month \n",
        "# we have 6 momths data\n"
      ]
    },
    {
      "cell_type": "code",
      "execution_count": 32,
      "id": "940c21ff",
      "metadata": {
        "colab": {
          "base_uri": "https://localhost:8080/"
        },
        "id": "940c21ff",
        "outputId": "34fc387f-8620-45d9-ce1b-5a1dcfdab1fb"
      },
      "outputs": [
        {
          "output_type": "execute_result",
          "data": {
            "text/plain": [
              "(138, 2)"
            ]
          },
          "metadata": {},
          "execution_count": 32
        }
      ],
      "source": [
        "df_arima.asfreq('B').shape"
      ]
    },
    {
      "cell_type": "markdown",
      "id": "76f6b69b",
      "metadata": {
        "id": "76f6b69b"
      },
      "source": [
        "# Auto Arima"
      ]
    },
    {
      "cell_type": "code",
      "source": [
        "pip install pmdarima"
      ],
      "metadata": {
        "colab": {
          "base_uri": "https://localhost:8080/",
          "height": 610
        },
        "id": "5tSOJNPEseMw",
        "outputId": "aabdb806-7ddd-4107-c4c8-54d4f6460e51"
      },
      "id": "5tSOJNPEseMw",
      "execution_count": 34,
      "outputs": [
        {
          "output_type": "stream",
          "name": "stdout",
          "text": [
            "Looking in indexes: https://pypi.org/simple, https://us-python.pkg.dev/colab-wheels/public/simple/\n",
            "Collecting pmdarima\n",
            "  Downloading pmdarima-2.0.1-cp37-cp37m-manylinux_2_17_x86_64.manylinux2014_x86_64.manylinux_2_28_x86_64.whl (1.8 MB)\n",
            "\u001b[K     |████████████████████████████████| 1.8 MB 7.7 MB/s \n",
            "\u001b[?25hCollecting statsmodels>=0.13.2\n",
            "  Downloading statsmodels-0.13.2-cp37-cp37m-manylinux_2_17_x86_64.manylinux2014_x86_64.whl (9.8 MB)\n",
            "\u001b[K     |████████████████████████████████| 9.8 MB 38.6 MB/s \n",
            "\u001b[?25hRequirement already satisfied: scikit-learn>=0.22 in /usr/local/lib/python3.7/dist-packages (from pmdarima) (1.0.2)\n",
            "Requirement already satisfied: scipy>=1.3.2 in /usr/local/lib/python3.7/dist-packages (from pmdarima) (1.7.3)\n",
            "Requirement already satisfied: Cython!=0.29.18,!=0.29.31,>=0.29 in /usr/local/lib/python3.7/dist-packages (from pmdarima) (0.29.32)\n",
            "Requirement already satisfied: urllib3 in /usr/local/lib/python3.7/dist-packages (from pmdarima) (1.24.3)\n",
            "Requirement already satisfied: joblib>=0.11 in /usr/local/lib/python3.7/dist-packages (from pmdarima) (1.1.0)\n",
            "Requirement already satisfied: numpy>=1.21 in /usr/local/lib/python3.7/dist-packages (from pmdarima) (1.21.6)\n",
            "Requirement already satisfied: setuptools!=50.0.0,>=38.6.0 in /usr/local/lib/python3.7/dist-packages (from pmdarima) (57.4.0)\n",
            "Requirement already satisfied: pandas>=0.19 in /usr/local/lib/python3.7/dist-packages (from pmdarima) (1.3.5)\n",
            "Requirement already satisfied: pytz>=2017.3 in /usr/local/lib/python3.7/dist-packages (from pandas>=0.19->pmdarima) (2022.2.1)\n",
            "Requirement already satisfied: python-dateutil>=2.7.3 in /usr/local/lib/python3.7/dist-packages (from pandas>=0.19->pmdarima) (2.8.2)\n",
            "Requirement already satisfied: six>=1.5 in /usr/local/lib/python3.7/dist-packages (from python-dateutil>=2.7.3->pandas>=0.19->pmdarima) (1.15.0)\n",
            "Requirement already satisfied: threadpoolctl>=2.0.0 in /usr/local/lib/python3.7/dist-packages (from scikit-learn>=0.22->pmdarima) (3.1.0)\n",
            "Requirement already satisfied: packaging>=21.3 in /usr/local/lib/python3.7/dist-packages (from statsmodels>=0.13.2->pmdarima) (21.3)\n",
            "Requirement already satisfied: patsy>=0.5.2 in /usr/local/lib/python3.7/dist-packages (from statsmodels>=0.13.2->pmdarima) (0.5.2)\n",
            "Requirement already satisfied: pyparsing!=3.0.5,>=2.0.2 in /usr/local/lib/python3.7/dist-packages (from packaging>=21.3->statsmodels>=0.13.2->pmdarima) (3.0.9)\n",
            "Installing collected packages: statsmodels, pmdarima\n",
            "  Attempting uninstall: statsmodels\n",
            "    Found existing installation: statsmodels 0.12.2\n",
            "    Uninstalling statsmodels-0.12.2:\n",
            "      Successfully uninstalled statsmodels-0.12.2\n",
            "Successfully installed pmdarima-2.0.1 statsmodels-0.13.2\n"
          ]
        },
        {
          "output_type": "display_data",
          "data": {
            "application/vnd.colab-display-data+json": {
              "pip_warning": {
                "packages": [
                  "statsmodels"
                ]
              }
            }
          },
          "metadata": {}
        }
      ]
    },
    {
      "cell_type": "code",
      "execution_count": 36,
      "id": "1dc3a10d",
      "metadata": {
        "colab": {
          "base_uri": "https://localhost:8080/"
        },
        "id": "1dc3a10d",
        "outputId": "69110475-91d3-4fd2-d703-bc34aeca7ec5"
      },
      "outputs": [
        {
          "output_type": "stream",
          "name": "stdout",
          "text": [
            "Performing stepwise search to minimize aic\n",
            " ARIMA(2,1,2)(0,0,0)[0] intercept   : AIC=322819.614, Time=30.48 sec\n",
            " ARIMA(0,1,0)(0,0,0)[0] intercept   : AIC=322851.832, Time=1.26 sec\n",
            " ARIMA(1,1,0)(0,0,0)[0] intercept   : AIC=322852.714, Time=1.57 sec\n",
            " ARIMA(0,1,1)(0,0,0)[0] intercept   : AIC=322852.671, Time=3.03 sec\n",
            " ARIMA(0,1,0)(0,0,0)[0]             : AIC=322856.773, Time=0.58 sec\n",
            " ARIMA(1,1,2)(0,0,0)[0] intercept   : AIC=322831.781, Time=9.38 sec\n",
            " ARIMA(2,1,1)(0,0,0)[0] intercept   : AIC=322832.473, Time=8.23 sec\n",
            " ARIMA(3,1,2)(0,0,0)[0] intercept   : AIC=322823.874, Time=40.79 sec\n",
            " ARIMA(2,1,3)(0,0,0)[0] intercept   : AIC=322821.736, Time=66.61 sec\n",
            " ARIMA(1,1,1)(0,0,0)[0] intercept   : AIC=322842.463, Time=36.81 sec\n",
            " ARIMA(1,1,3)(0,0,0)[0] intercept   : AIC=322829.655, Time=13.16 sec\n",
            " ARIMA(3,1,1)(0,0,0)[0] intercept   : AIC=322829.045, Time=5.71 sec\n",
            " ARIMA(3,1,3)(0,0,0)[0] intercept   : AIC=322823.330, Time=70.66 sec\n",
            " ARIMA(2,1,2)(0,0,0)[0]             : AIC=322824.841, Time=19.19 sec\n",
            "\n",
            "Best model:  ARIMA(2,1,2)(0,0,0)[0] intercept\n",
            "Total fit time: 307.502 seconds\n"
          ]
        }
      ],
      "source": [
        "from pmdarima import auto_arima\n",
        "stepwise_fit = auto_arima(df_arima['close'], trace=True,\n",
        "suppress_warnings=True)"
      ]
    },
    {
      "cell_type": "code",
      "execution_count": 37,
      "id": "890d7e50",
      "metadata": {
        "id": "890d7e50"
      },
      "outputs": [],
      "source": [
        "## create a ARIMA model\n",
        "from statsmodels.tsa.arima.model import ARIMA"
      ]
    },
    {
      "cell_type": "code",
      "execution_count": 38,
      "id": "b2cc01c2",
      "metadata": {
        "id": "b2cc01c2"
      },
      "outputs": [],
      "source": [
        "modelARIMA=ARIMA(df.asfreq(\"B\")['close'],order=(2,1,2))"
      ]
    },
    {
      "cell_type": "code",
      "execution_count": 39,
      "id": "ea879070",
      "metadata": {
        "id": "ea879070"
      },
      "outputs": [],
      "source": [
        "modelArima_fit=modelARIMA.fit()"
      ]
    },
    {
      "cell_type": "code",
      "execution_count": 40,
      "id": "5171c552",
      "metadata": {
        "colab": {
          "base_uri": "https://localhost:8080/",
          "height": 473
        },
        "id": "5171c552",
        "outputId": "5626d2fc-d93c-4552-d716-e080971b0af6"
      },
      "outputs": [
        {
          "output_type": "execute_result",
          "data": {
            "text/plain": [
              "<class 'statsmodels.iolib.summary.Summary'>\n",
              "\"\"\"\n",
              "                               SARIMAX Results                                \n",
              "==============================================================================\n",
              "Dep. Variable:                  close   No. Observations:                 1045\n",
              "Model:                 ARIMA(2, 1, 2)   Log Likelihood               -6151.763\n",
              "Date:                Tue, 27 Sep 2022   AIC                          12313.525\n",
              "Time:                        07:00:19   BIC                          12338.279\n",
              "Sample:                    01-02-2017   HQIC                         12322.914\n",
              "                         - 01-01-2021                                         \n",
              "Covariance Type:                  opg                                         \n",
              "==============================================================================\n",
              "                 coef    std err          z      P>|z|      [0.025      0.975]\n",
              "------------------------------------------------------------------------------\n",
              "ar.L1          0.9114      0.064     14.259      0.000       0.786       1.037\n",
              "ar.L2         -0.5999      0.084     -7.166      0.000      -0.764      -0.436\n",
              "ma.L1         -1.0158      0.060    -16.847      0.000      -1.134      -0.898\n",
              "ma.L2          0.7406      0.069     10.738      0.000       0.605       0.876\n",
              "sigma2      1.484e+04    239.229     62.015      0.000    1.44e+04    1.53e+04\n",
              "===================================================================================\n",
              "Ljung-Box (L1) (Q):                   0.05   Jarque-Bera (JB):             17162.25\n",
              "Prob(Q):                              0.82   Prob(JB):                         0.00\n",
              "Heteroskedasticity (H):               6.41   Skew:                            -1.11\n",
              "Prob(H) (two-sided):                  0.00   Kurtosis:                        22.74\n",
              "===================================================================================\n",
              "\n",
              "Warnings:\n",
              "[1] Covariance matrix calculated using the outer product of gradients (complex-step).\n",
              "\"\"\""
            ],
            "text/html": [
              "<table class=\"simpletable\">\n",
              "<caption>SARIMAX Results</caption>\n",
              "<tr>\n",
              "  <th>Dep. Variable:</th>         <td>close</td>      <th>  No. Observations:  </th>   <td>1045</td>   \n",
              "</tr>\n",
              "<tr>\n",
              "  <th>Model:</th>            <td>ARIMA(2, 1, 2)</td>  <th>  Log Likelihood     </th> <td>-6151.763</td>\n",
              "</tr>\n",
              "<tr>\n",
              "  <th>Date:</th>            <td>Tue, 27 Sep 2022</td> <th>  AIC                </th> <td>12313.525</td>\n",
              "</tr>\n",
              "<tr>\n",
              "  <th>Time:</th>                <td>07:00:19</td>     <th>  BIC                </th> <td>12338.279</td>\n",
              "</tr>\n",
              "<tr>\n",
              "  <th>Sample:</th>             <td>01-02-2017</td>    <th>  HQIC               </th> <td>12322.914</td>\n",
              "</tr>\n",
              "<tr>\n",
              "  <th></th>                   <td>- 01-01-2021</td>   <th>                     </th>     <td> </td>    \n",
              "</tr>\n",
              "<tr>\n",
              "  <th>Covariance Type:</th>        <td>opg</td>       <th>                     </th>     <td> </td>    \n",
              "</tr>\n",
              "</table>\n",
              "<table class=\"simpletable\">\n",
              "<tr>\n",
              "     <td></td>       <th>coef</th>     <th>std err</th>      <th>z</th>      <th>P>|z|</th>  <th>[0.025</th>    <th>0.975]</th>  \n",
              "</tr>\n",
              "<tr>\n",
              "  <th>ar.L1</th>  <td>    0.9114</td> <td>    0.064</td> <td>   14.259</td> <td> 0.000</td> <td>    0.786</td> <td>    1.037</td>\n",
              "</tr>\n",
              "<tr>\n",
              "  <th>ar.L2</th>  <td>   -0.5999</td> <td>    0.084</td> <td>   -7.166</td> <td> 0.000</td> <td>   -0.764</td> <td>   -0.436</td>\n",
              "</tr>\n",
              "<tr>\n",
              "  <th>ma.L1</th>  <td>   -1.0158</td> <td>    0.060</td> <td>  -16.847</td> <td> 0.000</td> <td>   -1.134</td> <td>   -0.898</td>\n",
              "</tr>\n",
              "<tr>\n",
              "  <th>ma.L2</th>  <td>    0.7406</td> <td>    0.069</td> <td>   10.738</td> <td> 0.000</td> <td>    0.605</td> <td>    0.876</td>\n",
              "</tr>\n",
              "<tr>\n",
              "  <th>sigma2</th> <td> 1.484e+04</td> <td>  239.229</td> <td>   62.015</td> <td> 0.000</td> <td> 1.44e+04</td> <td> 1.53e+04</td>\n",
              "</tr>\n",
              "</table>\n",
              "<table class=\"simpletable\">\n",
              "<tr>\n",
              "  <th>Ljung-Box (L1) (Q):</th>     <td>0.05</td> <th>  Jarque-Bera (JB):  </th> <td>17162.25</td>\n",
              "</tr>\n",
              "<tr>\n",
              "  <th>Prob(Q):</th>                <td>0.82</td> <th>  Prob(JB):          </th>   <td>0.00</td>  \n",
              "</tr>\n",
              "<tr>\n",
              "  <th>Heteroskedasticity (H):</th> <td>6.41</td> <th>  Skew:              </th>   <td>-1.11</td> \n",
              "</tr>\n",
              "<tr>\n",
              "  <th>Prob(H) (two-sided):</th>    <td>0.00</td> <th>  Kurtosis:          </th>   <td>22.74</td> \n",
              "</tr>\n",
              "</table><br/><br/>Warnings:<br/>[1] Covariance matrix calculated using the outer product of gradients (complex-step)."
            ]
          },
          "metadata": {},
          "execution_count": 40
        }
      ],
      "source": [
        "modelArima_fit.summary()"
      ]
    },
    {
      "cell_type": "code",
      "execution_count": 41,
      "id": "6f4f3505",
      "metadata": {
        "colab": {
          "base_uri": "https://localhost:8080/"
        },
        "id": "6f4f3505",
        "outputId": "f04bea53-e2ca-439a-a638-3a8d1595dc7a"
      },
      "outputs": [
        {
          "output_type": "stream",
          "name": "stdout",
          "text": [
            "(1045, 5)\n",
            "(835,) (210,)\n"
          ]
        }
      ],
      "source": [
        "print(df.asfreq('B').shape)\n",
        "train=df.asfreq('B')['close'].iloc[0:835,]\n",
        "test=df.asfreq('B')['close'].iloc[835:]\n",
        "print(train.shape,test.shape)\n",
        "#80 20 split"
      ]
    },
    {
      "cell_type": "code",
      "execution_count": 42,
      "id": "186f5fac",
      "metadata": {
        "colab": {
          "base_uri": "https://localhost:8080/",
          "height": 343
        },
        "id": "186f5fac",
        "outputId": "b04e7da9-c639-4bb2-cbe2-b94eb79928b9"
      },
      "outputs": [
        {
          "output_type": "execute_result",
          "data": {
            "text/plain": [
              "<matplotlib.axes._subplots.AxesSubplot at 0x7fbbf776d4d0>"
            ]
          },
          "metadata": {},
          "execution_count": 42
        },
        {
          "output_type": "display_data",
          "data": {
            "text/plain": [
              "<Figure size 1152x360 with 1 Axes>"
            ],
            "image/png": "[encoded data removed]"
          },
          "metadata": {
            "needs_background": "light"
          }
        }
      ],
      "source": [
        "pred=modelArima_fit.predict(start=836,end=1045,typ='levels').rename('ARIMA Predictions')\n",
        "pred.plot(legend=True)\n",
        "df.asfreq('B')['close'].plot(legend=True,figsize=(16,5))"
      ]
    },
    {
      "cell_type": "code",
      "execution_count": 43,
      "id": "0f1f2aa7",
      "metadata": {
        "colab": {
          "base_uri": "https://localhost:8080/"
        },
        "id": "0f1f2aa7",
        "outputId": "4656dd8d-2977-42c7-e04f-ab785e266017"
      },
      "outputs": [
        {
          "output_type": "execute_result",
          "data": {
            "text/plain": [
              "2020-03-17 09:15:00     9379.858611\n",
              "2020-03-18 09:15:00     9122.250667\n",
              "2020-03-19 09:15:00     9067.572080\n",
              "2020-03-20 09:15:00     8083.966810\n",
              "2020-03-23 09:15:00     8189.086126\n",
              "                           ...     \n",
              "2020-12-29 09:15:00    13858.037349\n",
              "2020-12-30 09:15:00    13985.353853\n",
              "2020-12-31 09:15:00    13996.810105\n",
              "2021-01-01 09:15:00    13968.894097\n",
              "2021-01-04 09:15:00    13988.898629\n",
              "Freq: B, Name: predicted_mean, Length: 210, dtype: float64"
            ]
          },
          "metadata": {},
          "execution_count": 43
        }
      ],
      "source": [
        "Y_pred = modelArima_fit.predict(start=836,end=1045,typ='levels')\n",
        "Y_pred"
      ]
    },
    {
      "cell_type": "code",
      "execution_count": 44,
      "id": "381c960c",
      "metadata": {
        "id": "381c960c"
      },
      "outputs": [],
      "source": [
        "from sklearn.metrics import r2_score"
      ]
    },
    {
      "cell_type": "code",
      "execution_count": 45,
      "id": "906204c0",
      "metadata": {
        "id": "906204c0"
      },
      "outputs": [],
      "source": [
        "def eval_fun(Y_test,Y_pred):\n",
        "    from sklearn.metrics import r2_score,mean_squared_error,mean_absolute_error\n",
        "    r2 = r2_score(Y_test,Y_pred)\n",
        "    mse = mean_squared_error(Y_test,Y_pred)\n",
        "    mae = mean_absolute_error(Y_test,Y_pred)\n",
        "    return r2, mse, mae"
      ]
    },
    {
      "cell_type": "code",
      "execution_count": 46,
      "id": "3116adc2",
      "metadata": {
        "colab": {
          "base_uri": "https://localhost:8080/"
        },
        "id": "3116adc2",
        "outputId": "fb7abbd3-0221-4bf6-d022-a72d45d3cdf4"
      },
      "outputs": [
        {
          "output_type": "execute_result",
          "data": {
            "text/plain": [
              "10"
            ]
          },
          "metadata": {},
          "execution_count": 46
        }
      ],
      "source": [
        "test.isnull().sum()"
      ]
    },
    {
      "cell_type": "code",
      "execution_count": 47,
      "id": "0ea32eb9",
      "metadata": {
        "id": "0ea32eb9"
      },
      "outputs": [],
      "source": [
        "test.ffill(inplace=True)"
      ]
    },
    {
      "cell_type": "code",
      "execution_count": 48,
      "id": "c8b5f47b",
      "metadata": {
        "colab": {
          "base_uri": "https://localhost:8080/"
        },
        "id": "c8b5f47b",
        "outputId": "d3c85ed4-e421-4d4a-a3d7-ed70f722e832"
      },
      "outputs": [
        {
          "output_type": "stream",
          "name": "stdout",
          "text": [
            "r2 score =  0.9995294937305317 mse =  1108.9633222276034  mae = 23.446660090081817\n"
          ]
        }
      ],
      "source": [
        "r2,mse,mae= eval_fun(test,Y_pred)\n",
        "print(\"r2 score = \", r2, \"mse = \", mse, \" mae =\", mae)"
      ]
    },
    {
      "cell_type": "code",
      "execution_count": 54,
      "id": "91386af3",
      "metadata": {
        "id": "91386af3"
      },
      "outputs": [],
      "source": []
    },
    {
      "cell_type": "code",
      "source": [],
      "metadata": {
        "id": "qgXiVsLCxqW2"
      },
      "id": "qgXiVsLCxqW2",
      "execution_count": null,
      "outputs": []
    }
  ],
  "metadata": {
    "kernelspec": {
      "display_name": "Python 3 (ipykernel)",
      "language": "python",
      "name": "python3"
    },
    "language_info": {
      "codemirror_mode": {
        "name": "ipython",
        "version": 3
      },
      "file_extension": ".py",
      "mimetype": "text/x-python",
      "name": "python",
      "nbconvert_exporter": "python",
      "pygments_lexer": "ipython3",
      "version": "3.9.12"
    },
    "colab": {
      "provenance": [],
      "collapsed_sections": []
    }
  },
  "nbformat": 4,
  "nbformat_minor": 5
}